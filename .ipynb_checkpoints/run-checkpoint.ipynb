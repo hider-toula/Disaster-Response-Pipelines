{
 "cells": [
  {
   "cell_type": "code",
   "execution_count": 6,
   "metadata": {},
   "outputs": [
    {
     "name": "stdout",
     "output_type": "stream",
     "text": [
      "Requirement already satisfied: flask in c:\\users\\hider\\anaconda3\\lib\\site-packages (1.1.1)\n",
      "Requirement already satisfied: Werkzeug>=0.15 in c:\\users\\hider\\anaconda3\\lib\\site-packages (from flask) (0.16.0)\n",
      "Requirement already satisfied: itsdangerous>=0.24 in c:\\users\\hider\\anaconda3\\lib\\site-packages (from flask) (1.1.0)\n",
      "Requirement already satisfied: click>=5.1 in c:\\users\\hider\\anaconda3\\lib\\site-packages (from flask) (7.0)\n",
      "Requirement already satisfied: Jinja2>=2.10.1 in c:\\users\\hider\\anaconda3\\lib\\site-packages (from flask) (2.10.3)\n",
      "Requirement already satisfied: MarkupSafe>=0.23 in c:\\users\\hider\\anaconda3\\lib\\site-packages (from Jinja2>=2.10.1->flask) (1.1.1)\n",
      "Note: you may need to restart the kernel to use updated packages.\n"
     ]
    }
   ],
   "source": [
    "pip install flask"
   ]
  },
  {
   "cell_type": "code",
   "execution_count": 18,
   "metadata": {},
   "outputs": [],
   "source": [
    "from flask import Flask ,render_template"
   ]
  },
  {
   "cell_type": "code",
   "execution_count": null,
   "metadata": {
    "scrolled": true
   },
   "outputs": [
    {
     "name": "stdout",
     "output_type": "stream",
     "text": [
      " * Serving Flask app \"__main__\" (lazy loading)\n",
      " * Environment: production\n",
      "   WARNING: This is a development server. Do not use it in a production deployment.\n",
      "   Use a production WSGI server instead.\n",
      " * Debug mode: off\n"
     ]
    },
    {
     "name": "stderr",
     "output_type": "stream",
     "text": [
      " * Running on http://127.0.0.1:5000/ (Press CTRL+C to quit)\n",
      "[2020-05-04 05:46:55,345] ERROR in app: Exception on / [GET]\n",
      "Traceback (most recent call last):\n",
      "  File \"C:\\Users\\hider\\Anaconda3\\lib\\site-packages\\flask\\app.py\", line 2446, in wsgi_app\n",
      "    response = self.full_dispatch_request()\n",
      "  File \"C:\\Users\\hider\\Anaconda3\\lib\\site-packages\\flask\\app.py\", line 1951, in full_dispatch_request\n",
      "    rv = self.handle_user_exception(e)\n",
      "  File \"C:\\Users\\hider\\Anaconda3\\lib\\site-packages\\flask\\app.py\", line 1820, in handle_user_exception\n",
      "    reraise(exc_type, exc_value, tb)\n",
      "  File \"C:\\Users\\hider\\Anaconda3\\lib\\site-packages\\flask\\_compat.py\", line 39, in reraise\n",
      "    raise value\n",
      "  File \"C:\\Users\\hider\\Anaconda3\\lib\\site-packages\\flask\\app.py\", line 1949, in full_dispatch_request\n",
      "    rv = self.dispatch_request()\n",
      "  File \"C:\\Users\\hider\\Anaconda3\\lib\\site-packages\\flask\\app.py\", line 1935, in dispatch_request\n",
      "    return self.view_functions[rule.endpoint](**req.view_args)\n",
      "  File \"<ipython-input-31-48ca878c3190>\", line 6, in home\n",
      "    return render_template('/home.html')\n",
      "  File \"C:\\Users\\hider\\Anaconda3\\lib\\site-packages\\flask\\templating.py\", line 138, in render_template\n",
      "    ctx.app.jinja_env.get_or_select_template(template_name_or_list),\n",
      "  File \"C:\\Users\\hider\\Anaconda3\\lib\\site-packages\\jinja2\\environment.py\", line 869, in get_or_select_template\n",
      "    return self.get_template(template_name_or_list, parent, globals)\n",
      "  File \"C:\\Users\\hider\\Anaconda3\\lib\\site-packages\\jinja2\\environment.py\", line 830, in get_template\n",
      "    return self._load_template(name, self.make_globals(globals))\n",
      "  File \"C:\\Users\\hider\\Anaconda3\\lib\\site-packages\\jinja2\\environment.py\", line 804, in _load_template\n",
      "    template = self.loader.load(self, name, globals)\n",
      "  File \"C:\\Users\\hider\\Anaconda3\\lib\\site-packages\\jinja2\\loaders.py\", line 125, in load\n",
      "    code = environment.compile(source, name, filename)\n",
      "  File \"C:\\Users\\hider\\Anaconda3\\lib\\site-packages\\jinja2\\environment.py\", line 591, in compile\n",
      "    self.handle_exception(exc_info, source_hint=source_hint)\n",
      "  File \"C:\\Users\\hider\\Anaconda3\\lib\\site-packages\\jinja2\\environment.py\", line 780, in handle_exception\n",
      "    reraise(exc_type, exc_value, tb)\n",
      "  File \"C:\\Users\\hider\\Anaconda3\\lib\\site-packages\\jinja2\\_compat.py\", line 37, in reraise\n",
      "    raise value.with_traceback(tb)\n",
      "  File \"C:\\Users\\hider\\OneDrive\\Bureau\\Disaster-Response-Pipelines\\Disaster-Response-Pipelines\\templates\\home.html\", line 11, in template\n",
      "    <link rel=\"stylesheet\" type=\"text/css\" href=\"{{url_for('/'),filename='style.css'}}\">\n",
      "  File \"C:\\Users\\hider\\Anaconda3\\lib\\site-packages\\jinja2\\environment.py\", line 497, in _parse\n",
      "    return Parser(self, source, name, encode_filename(filename)).parse()\n",
      "  File \"C:\\Users\\hider\\Anaconda3\\lib\\site-packages\\jinja2\\parser.py\", line 901, in parse\n",
      "    result = nodes.Template(self.subparse(), lineno=1)\n",
      "  File \"C:\\Users\\hider\\Anaconda3\\lib\\site-packages\\jinja2\\parser.py\", line 876, in subparse\n",
      "    self.stream.expect('variable_end')\n",
      "  File \"C:\\Users\\hider\\Anaconda3\\lib\\site-packages\\jinja2\\lexer.py\", line 384, in expect\n",
      "    self.name, self.filename)\n",
      "jinja2.exceptions.TemplateSyntaxError: expected token 'end of print statement', got '='\n",
      "127.0.0.1 - - [04/May/2020 05:46:55] \"GET / HTTP/1.1\" 500 -\n",
      "[2020-05-04 05:47:00,524] ERROR in app: Exception on / [GET]\n",
      "Traceback (most recent call last):\n",
      "  File \"C:\\Users\\hider\\Anaconda3\\lib\\site-packages\\flask\\app.py\", line 2446, in wsgi_app\n",
      "    response = self.full_dispatch_request()\n",
      "  File \"C:\\Users\\hider\\Anaconda3\\lib\\site-packages\\flask\\app.py\", line 1951, in full_dispatch_request\n",
      "    rv = self.handle_user_exception(e)\n",
      "  File \"C:\\Users\\hider\\Anaconda3\\lib\\site-packages\\flask\\app.py\", line 1820, in handle_user_exception\n",
      "    reraise(exc_type, exc_value, tb)\n",
      "  File \"C:\\Users\\hider\\Anaconda3\\lib\\site-packages\\flask\\_compat.py\", line 39, in reraise\n",
      "    raise value\n",
      "  File \"C:\\Users\\hider\\Anaconda3\\lib\\site-packages\\flask\\app.py\", line 1949, in full_dispatch_request\n",
      "    rv = self.dispatch_request()\n",
      "  File \"C:\\Users\\hider\\Anaconda3\\lib\\site-packages\\flask\\app.py\", line 1935, in dispatch_request\n",
      "    return self.view_functions[rule.endpoint](**req.view_args)\n",
      "  File \"<ipython-input-31-48ca878c3190>\", line 6, in home\n",
      "    return render_template('/home.html')\n",
      "  File \"C:\\Users\\hider\\Anaconda3\\lib\\site-packages\\flask\\templating.py\", line 138, in render_template\n",
      "    ctx.app.jinja_env.get_or_select_template(template_name_or_list),\n",
      "  File \"C:\\Users\\hider\\Anaconda3\\lib\\site-packages\\jinja2\\environment.py\", line 869, in get_or_select_template\n",
      "    return self.get_template(template_name_or_list, parent, globals)\n",
      "  File \"C:\\Users\\hider\\Anaconda3\\lib\\site-packages\\jinja2\\environment.py\", line 830, in get_template\n",
      "    return self._load_template(name, self.make_globals(globals))\n",
      "  File \"C:\\Users\\hider\\Anaconda3\\lib\\site-packages\\jinja2\\environment.py\", line 804, in _load_template\n",
      "    template = self.loader.load(self, name, globals)\n",
      "  File \"C:\\Users\\hider\\Anaconda3\\lib\\site-packages\\jinja2\\loaders.py\", line 125, in load\n",
      "    code = environment.compile(source, name, filename)\n",
      "  File \"C:\\Users\\hider\\Anaconda3\\lib\\site-packages\\jinja2\\environment.py\", line 591, in compile\n",
      "    self.handle_exception(exc_info, source_hint=source_hint)\n",
      "  File \"C:\\Users\\hider\\Anaconda3\\lib\\site-packages\\jinja2\\environment.py\", line 780, in handle_exception\n",
      "    reraise(exc_type, exc_value, tb)\n",
      "  File \"C:\\Users\\hider\\Anaconda3\\lib\\site-packages\\jinja2\\_compat.py\", line 37, in reraise\n",
      "    raise value.with_traceback(tb)\n",
      "  File \"C:\\Users\\hider\\OneDrive\\Bureau\\Disaster-Response-Pipelines\\Disaster-Response-Pipelines\\templates\\home.html\", line 11, in template\n",
      "    <link rel=\"stylesheet\" type=\"text/css\" href=\"{{url_for('/'),filename='style.css'}}\">\n",
      "  File \"C:\\Users\\hider\\Anaconda3\\lib\\site-packages\\jinja2\\environment.py\", line 497, in _parse\n",
      "    return Parser(self, source, name, encode_filename(filename)).parse()\n",
      "  File \"C:\\Users\\hider\\Anaconda3\\lib\\site-packages\\jinja2\\parser.py\", line 901, in parse\n",
      "    result = nodes.Template(self.subparse(), lineno=1)\n",
      "  File \"C:\\Users\\hider\\Anaconda3\\lib\\site-packages\\jinja2\\parser.py\", line 876, in subparse\n",
      "    self.stream.expect('variable_end')\n",
      "  File \"C:\\Users\\hider\\Anaconda3\\lib\\site-packages\\jinja2\\lexer.py\", line 384, in expect\n",
      "    self.name, self.filename)\n",
      "jinja2.exceptions.TemplateSyntaxError: expected token 'end of print statement', got '='\n",
      "127.0.0.1 - - [04/May/2020 05:47:00] \"GET / HTTP/1.1\" 500 -\n"
     ]
    }
   ],
   "source": [
    "app = Flask(__name__)\n",
    "\n",
    "@app.route('/')\n",
    "\n",
    "def home():\n",
    "    return render_template('home.html')\n",
    "\n",
    "if __name__ =='__main__':\n",
    "    app.run()\n"
   ]
  },
  {
   "cell_type": "code",
   "execution_count": null,
   "metadata": {},
   "outputs": [],
   "source": []
  }
 ],
 "metadata": {
  "kernelspec": {
   "display_name": "Python 3",
   "language": "python",
   "name": "python3"
  },
  "language_info": {
   "codemirror_mode": {
    "name": "ipython",
    "version": 3
   },
   "file_extension": ".py",
   "mimetype": "text/x-python",
   "name": "python",
   "nbconvert_exporter": "python",
   "pygments_lexer": "ipython3",
   "version": "3.7.4"
  }
 },
 "nbformat": 4,
 "nbformat_minor": 2
}
